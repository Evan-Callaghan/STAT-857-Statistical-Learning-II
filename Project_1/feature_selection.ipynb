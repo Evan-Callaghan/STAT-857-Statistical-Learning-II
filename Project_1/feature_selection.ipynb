{
 "cells": [
  {
   "cell_type": "markdown",
   "id": "49c8db5c-7835-4bcc-980e-69a621796797",
   "metadata": {},
   "source": [
    "### W23P1 STAT 857 - Feature Selection"
   ]
  },
  {
   "cell_type": "code",
   "execution_count": null,
   "id": "01b28e6b-e846-49ec-a53b-8405698379ad",
   "metadata": {},
   "outputs": [],
   "source": [
    "pip install lightgbm"
   ]
  },
  {
   "cell_type": "code",
   "execution_count": 5,
   "id": "f23fa765-de11-472f-8bc3-9b8dce7d5fa6",
   "metadata": {},
   "outputs": [],
   "source": [
    "import numpy as np\n",
    "import pandas as pd\n",
    "from tqdm import tqdm\n",
    "from lightgbm import LGBMRegressor\n",
    "from sklearn.feature_selection import RFECV\n",
    "from sklearn.metrics import mean_squared_error\n",
    "from sklearn.model_selection import train_test_split"
   ]
  },
  {
   "cell_type": "code",
   "execution_count": 6,
   "id": "a3aae9c2-7173-477a-a0ba-c78cee6f071b",
   "metadata": {},
   "outputs": [],
   "source": [
    "## Reading the data\n",
    "data = pd.read_csv('Data/W23P1_train_final.csv')\n",
    "\n",
    "## Defining the input and target variables\n",
    "X = data.drop(columns = ['fare_amount'])\n",
    "Y = data['fare_amount']"
   ]
  },
  {
   "cell_type": "code",
   "execution_count": 7,
   "id": "bcee80d9-ea39-4364-b427-f507f09a638d",
   "metadata": {},
   "outputs": [
    {
     "name": "stderr",
     "output_type": "stream",
     "text": [
      "100%|██████████| 10/10 [13:18<00:00, 79.88s/it]\n"
     ]
    },
    {
     "data": {
      "text/plain": [
       "pickup_longitude         100.0\n",
       "pickup_latitude          100.0\n",
       "dropoff_longitude        100.0\n",
       "dropoff_latitude         100.0\n",
       "distance                 100.0\n",
       "haversine                100.0\n",
       "duration                 100.0\n",
       "passenger_count          100.0\n",
       "pickup_day               100.0\n",
       "holiday                  100.0\n",
       "Monday                   100.0\n",
       "Tuesday                    0.0\n",
       "Wednesday                  0.0\n",
       "Thursday                 100.0\n",
       "Friday                   100.0\n",
       "Saturday                 100.0\n",
       "weekend                  100.0\n",
       "pickup_hour              100.0\n",
       "rush_hour                100.0\n",
       "overnight                100.0\n",
       "LGA                      100.0\n",
       "JFK                      100.0\n",
       "EWR                      100.0\n",
       "pickup_LGA               100.0\n",
       "dropoff_LGA                0.0\n",
       "pickup_JFK                 0.0\n",
       "dropoff_JFK              100.0\n",
       "pickup_EWR                 0.0\n",
       "dropoff_EWR                0.0\n",
       "pickup_airport           100.0\n",
       "dropoff_airport          100.0\n",
       "change_borough           100.0\n",
       "pickup_bronx               0.0\n",
       "pickup_brooklyn            0.0\n",
       "pickup_manhattan         100.0\n",
       "pickup_queens            100.0\n",
       "pickup_staten_island       0.0\n",
       "dropoff_bronx              0.0\n",
       "dropoff_brooklyn           0.0\n",
       "dropoff_manhattan        100.0\n",
       "dropoff_queens             0.0\n",
       "dropoff_staten_island      0.0\n",
       "dtype: float64"
      ]
     },
     "execution_count": 7,
     "metadata": {},
     "output_type": "execute_result"
    }
   ],
   "source": [
    "## Running RFECV\n",
    "RFE_results = list()\n",
    "\n",
    "for i in tqdm(range(0, 10)):\n",
    "    \n",
    "    auto_feature_selection = RFECV(estimator = LGBMRegressor(objective = 'rmse'), step = 1, min_features_to_select = 2, cv = 5).fit(X, Y)\n",
    "    \n",
    "    ## Extracting and storing features to be selected\n",
    "    RFE_results.append(auto_feature_selection.support_)\n",
    "\n",
    "## Changing to data-frame\n",
    "RFE_results = pd.DataFrame(RFE_results)\n",
    "RFE_results.columns = X.columns\n",
    "\n",
    "## Computing the percentage of time features are flagged as important\n",
    "RFE_results = 100 * RFE_results.apply(np.sum, axis = 0) / RFE_results.shape[0]\n",
    "RFE_results"
   ]
  }
 ],
 "metadata": {
  "kernelspec": {
   "display_name": "conda_python3",
   "language": "python",
   "name": "conda_python3"
  },
  "language_info": {
   "codemirror_mode": {
    "name": "ipython",
    "version": 3
   },
   "file_extension": ".py",
   "mimetype": "text/x-python",
   "name": "python",
   "nbconvert_exporter": "python",
   "pygments_lexer": "ipython3",
   "version": "3.10.8"
  }
 },
 "nbformat": 4,
 "nbformat_minor": 5
}
