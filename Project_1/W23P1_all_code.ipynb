{
 "cells": [
  {
   "cell_type": "markdown",
   "id": "28c0e563-4057-438a-982c-1d08aabae39e",
   "metadata": {},
   "source": [
    "## STAT 857 - Project 1 Python Code\n",
    "## Evan Callaghan | March 27, 2023\n",
    "\n",
    "#### File Overview:\n",
    "- Installing necessary libraries\n",
    "- Imporing necessay libraries\n",
    "- Exploratory data analysis\n",
    "- Feature engineering\n",
    "- Hyper-parameter tuning\n",
    "- Final modelling"
   ]
  },
  {
   "cell_type": "markdown",
   "id": "e0654c40-e32c-4d56-8f84-901e1fed63c0",
   "metadata": {},
   "source": [
    "#### Installing necessary libraries"
   ]
  },
  {
   "cell_type": "code",
   "execution_count": null,
   "id": "ca49c92f-6aab-4fbe-8609-bbf4284bd61b",
   "metadata": {},
   "outputs": [],
   "source": []
  },
  {
   "cell_type": "markdown",
   "id": "ccb4eaec-a346-4263-8f3d-9a0bb8a4d9f4",
   "metadata": {},
   "source": [
    "#### Importing necessary libraries"
   ]
  },
  {
   "cell_type": "code",
   "execution_count": null,
   "id": "52c7c268-f853-485e-a1d4-e1219e79083e",
   "metadata": {},
   "outputs": [],
   "source": []
  },
  {
   "cell_type": "markdown",
   "id": "3b99d174-9ac6-417c-b111-73fbfa753a8d",
   "metadata": {},
   "source": [
    "#### Exploratory data analysis"
   ]
  },
  {
   "cell_type": "code",
   "execution_count": null,
   "id": "fbdb6c7a-4ca5-49a0-8192-dfa6e025d60b",
   "metadata": {},
   "outputs": [],
   "source": []
  },
  {
   "cell_type": "code",
   "execution_count": null,
   "id": "2e8b4744-2c9c-4013-b075-2944ac37f0f0",
   "metadata": {},
   "outputs": [],
   "source": []
  },
  {
   "cell_type": "code",
   "execution_count": null,
   "id": "da8f130d-c115-4223-b813-dadf6f69cd34",
   "metadata": {},
   "outputs": [],
   "source": []
  },
  {
   "cell_type": "code",
   "execution_count": null,
   "id": "0ce2de51-1970-42e0-a65d-c99db6f016dd",
   "metadata": {},
   "outputs": [],
   "source": []
  }
 ],
 "metadata": {
  "kernelspec": {
   "display_name": "conda_python3",
   "language": "python",
   "name": "conda_python3"
  },
  "language_info": {
   "codemirror_mode": {
    "name": "ipython",
    "version": 3
   },
   "file_extension": ".py",
   "mimetype": "text/x-python",
   "name": "python",
   "nbconvert_exporter": "python",
   "pygments_lexer": "ipython3",
   "version": "3.10.8"
  }
 },
 "nbformat": 4,
 "nbformat_minor": 5
}
