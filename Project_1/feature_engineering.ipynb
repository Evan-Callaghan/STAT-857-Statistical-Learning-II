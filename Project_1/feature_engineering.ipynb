{
 "cells": [
  {
   "cell_type": "markdown",
   "id": "27d8a5fb-bd39-43be-b2b7-0b2a11ca93f1",
   "metadata": {},
   "source": [
    "### W23P1 STAT 857 - Feature Engineering"
   ]
  },
  {
   "cell_type": "code",
   "execution_count": null,
   "id": "ac9f4841-9719-4bf6-9b69-47e8b099c0e7",
   "metadata": {
    "tags": []
   },
   "outputs": [],
   "source": [
    "pip install haversine"
   ]
  },
  {
   "cell_type": "code",
   "execution_count": 1,
   "id": "0b92ccb5-25b4-4f0b-ad1a-01e362cc3593",
   "metadata": {
    "tags": []
   },
   "outputs": [],
   "source": [
    "## Importing libraries\n",
    "import calendar\n",
    "import numpy as np\n",
    "import pandas as pd\n",
    "from datetime import datetime\n",
    "from haversine import haversine, Unit\n",
    "from sklearn.preprocessing import OneHotEncoder\n",
    "pd.set_option('display.max_columns', None, 'display.max_rows', None)"
   ]
  },
  {
   "cell_type": "code",
   "execution_count": 2,
   "id": "82c22b97-77ca-467b-ad22-2d067194f745",
   "metadata": {
    "tags": []
   },
   "outputs": [],
   "source": [
    "## Reading the data\n",
    "train = pd.read_csv('Data/W23P1_train_google.csv')\n",
    "test = pd.read_csv('Data/W23P1_test_google.csv')"
   ]
  },
  {
   "cell_type": "code",
   "execution_count": 3,
   "id": "1aefb1d8-f99c-441c-b90c-7584a13d898d",
   "metadata": {
    "tags": []
   },
   "outputs": [],
   "source": [
    "## Defining helper dictionaries\n",
    "nyc_airports = {'JFK':{'min_lng':-73.8352, 'min_lat':40.6195, 'max_lng':-73.7401, 'max_lat':40.6659}, \n",
    "                'EWR':{'min_lng':-74.1925, 'min_lat':40.6700,  'max_lng':-74.1531,  'max_lat':40.7081}, \n",
    "                'LGA':{'min_lng':-73.8895, 'min_lat':40.7664, 'max_lng':-73.8550, 'max_lat':40.7931}\n",
    "               }\n",
    "\n",
    "nyc_boroughs = {'manhattan':{'min_lng':-74.0479, 'min_lat':40.6829, 'max_lng':-73.9067, 'max_lat':40.8820}, \n",
    "                'queens':{'min_lng':-73.9630, 'min_lat':40.5431, 'max_lng':-73.7004, 'max_lat':40.8007}, \n",
    "                'brooklyn':{'min_lng':-74.0421, 'min_lat':40.5707, 'max_lng':-73.8334, 'max_lat':40.7395}, \n",
    "                'bronx':{'min_lng':-73.9339, 'min_lat':40.7855, 'max_lng':-73.7654, 'max_lat':40.9176}, \n",
    "                'staten_island':{'min_lng':-74.2558, 'min_lat':40.4960, 'max_lng':-74.0522, 'max_lat':40.6490}\n",
    "               }\n",
    "\n",
    "## Defining helper functions\n",
    "def isAirport(latitude, longitude, airport_name = 'JFK'):\n",
    "    \n",
    "    a = (latitude >= nyc_airports[airport_name]['min_lat'])\n",
    "    b = (latitude <= nyc_airports[airport_name]['max_lat'])\n",
    "    c = (longitude >= nyc_airports[airport_name]['min_lng'])\n",
    "    d = (longitude <= nyc_airports[airport_name]['max_lng'])\n",
    "    \n",
    "    if (a and b and c and d): return 1\n",
    "    else: return 0\n",
    "\n",
    "def getBorough(latitude, longitude):\n",
    "    \n",
    "    boroughs = nyc_boroughs.keys()\n",
    "    \n",
    "    for borough in boroughs:\n",
    "        \n",
    "        a = (latitude >= nyc_boroughs[borough]['min_lat'])\n",
    "        b = (latitude <= nyc_boroughs[borough]['max_lat'])\n",
    "        c = (longitude >= nyc_boroughs[borough]['min_lng'])\n",
    "        d = (longitude <= nyc_boroughs[borough]['max_lng'])\n",
    "        \n",
    "        if (a and b and c and d): return borough\n",
    "    \n",
    "    return 'other'"
   ]
  },
  {
   "cell_type": "code",
   "execution_count": 4,
   "id": "4c57f3e8-a635-4258-9fb7-da632410d0f9",
   "metadata": {
    "tags": []
   },
   "outputs": [],
   "source": [
    "## Date/time\n",
    "train['pickup_datetime'] = pd.to_datetime(train['pickup_datetime'], format = '%Y-%m-%d %H:%M:%S UTC')\n",
    "train['pickup_date'] = train['pickup_datetime'].dt.date\n",
    "train['pickup_day'] = train['pickup_datetime'].apply(lambda x:x.day)\n",
    "train['pickup_hour'] = train['pickup_datetime'].apply(lambda x:x.hour)\n",
    "train['pickup_day_of_week'] = train['pickup_datetime'].apply(lambda x:calendar.day_name[x.weekday()])\n",
    "train = pd.concat([train, pd.get_dummies(pd.Series(train['pickup_day_of_week']))], axis = 1)\n",
    "train['weekend'] = np.where((train['Saturday'] == 1) | (train['Sunday'] == 1), 1, 0)\n",
    "train['rush_hour'] = np.where((train['pickup_hour'] >= 16) & (train['pickup_hour'] < 20) & (train['weekend'] == 0), 1, 0)\n",
    "train['overnight'] = np.where((train['pickup_hour'] < 6) | (train['pickup_hour'] > 20), 1, 0)\n",
    "train['holiday'] = np.where((train['pickup_day'] == 1) | (train['pickup_day'] == 21), 1, 0)\n",
    "\n",
    "## Airport\n",
    "train['pickup_LGA'] = train.apply(lambda row:isAirport(row['pickup_latitude'], row['pickup_longitude'], 'LGA'), axis = 1)\n",
    "train['dropoff_LGA'] = train.apply(lambda row:isAirport(row['dropoff_latitude'], row['dropoff_longitude'], 'LGA'), axis = 1)\n",
    "train['LGA'] = np.where(train['pickup_LGA'] + train['dropoff_LGA'] > 0, 1, 0)\n",
    "train['pickup_JFK'] = train.apply(lambda row:isAirport(row['pickup_latitude'], row['pickup_longitude'], 'JFK'), axis = 1)\n",
    "train['dropoff_JFK'] = train.apply(lambda row:isAirport(row['dropoff_latitude'], row['dropoff_longitude'], 'JFK'), axis = 1)\n",
    "train['JFK'] = np.where(train['pickup_JFK'] + train['dropoff_JFK'] > 0, 1, 0)\n",
    "train['pickup_EWR'] = train.apply(lambda row:isAirport(row['pickup_latitude'], row['pickup_longitude'], 'EWR'), axis = 1)\n",
    "train['dropoff_EWR'] = train.apply(lambda row:isAirport(row['dropoff_latitude'], row['dropoff_longitude'], 'EWR'), axis = 1)\n",
    "train['EWR'] = np.where(train['pickup_EWR'] + train['dropoff_EWR'] > 0, 1, 0)\n",
    "train['pickup_airport'] = np.where(train['pickup_LGA'] + train['pickup_JFK'] + train['pickup_EWR'] > 0, 1, 0)\n",
    "train['dropoff_airport'] = np.where(train['dropoff_LGA'] + train['dropoff_JFK'] + train['dropoff_EWR'] > 0, 1, 0)\n",
    "train['airport'] = np.where(train['LGA'] + train['JFK'] + train['EWR'] > 0, 1, 0)\n",
    "\n",
    "## Borough\n",
    "train['pickup_borough'] = train.apply(lambda row:getBorough(row['pickup_latitude'], row['pickup_longitude']), axis = 1)\n",
    "train['dropoff_borough'] = train.apply(lambda row:getBorough(row['dropoff_latitude'], row['dropoff_longitude']), axis = 1)\n",
    "train['change_borough'] = np.where(train['pickup_borough'] != train['dropoff_borough'], 1, 0)\n",
    "train = pd.concat([train, pd.get_dummies(pd.Series(train['pickup_borough']), prefix = 'pickup', prefix_sep = '_')], axis = 1)\n",
    "train = pd.concat([train, pd.get_dummies(pd.Series(train['dropoff_borough']), prefix = 'dropoff', prefix_sep = '_')], axis = 1)\n",
    "\n",
    "## Haversine distance\n",
    "train['haversine'] = np.nan\n",
    "for i in range(0, train.shape[0]):\n",
    "    pickup = (train.at[i, 'pickup_latitude'], train.at[i, 'pickup_longitude'])\n",
    "    dropoff = (train.at[i, 'dropoff_latitude'], train.at[i, 'dropoff_longitude'])\n",
    "    train.at[i, 'haversine'] = haversine(pickup, dropoff, unit = 'mi')\n",
    "    \n",
    "## Selecting variables of interest\n",
    "train = train[['fare_amount', 'pickup_longitude', 'pickup_latitude', 'dropoff_longitude', 'dropoff_latitude', 'distance', 'haversine', \n",
    "               'duration', 'passenger_count', 'pickup_day', 'holiday', 'Monday', 'Tuesday', 'Wednesday', 'Thursday',  'Friday', \n",
    "               'Saturday','weekend', 'pickup_hour', 'rush_hour', 'overnight', 'airport', 'LGA', 'JFK', 'EWR', 'pickup_LGA', 'dropoff_LGA', \n",
    "               'pickup_JFK', 'dropoff_JFK', 'pickup_EWR', 'dropoff_EWR', 'pickup_airport', 'dropoff_airport', 'change_borough', \n",
    "               'pickup_bronx', 'pickup_brooklyn', 'pickup_manhattan', 'pickup_queens', 'pickup_staten_island', 'dropoff_bronx', \n",
    "               'dropoff_brooklyn', 'dropoff_manhattan','dropoff_queens', 'dropoff_staten_island']]"
   ]
  },
  {
   "cell_type": "code",
   "execution_count": 5,
   "id": "8a0d304d-33e6-4afb-af99-737d4d8c45ad",
   "metadata": {
    "tags": []
   },
   "outputs": [],
   "source": [
    "## Date/time\n",
    "test['pickup_datetime'] = pd.to_datetime(test['pickup_datetime'], format = '%Y-%m-%d %H:%M:%S UTC')\n",
    "test['pickup_date'] = test['pickup_datetime'].dt.date\n",
    "test['pickup_day'] = test['pickup_datetime'].apply(lambda x:x.day)\n",
    "test['pickup_hour'] = test['pickup_datetime'].apply(lambda x:x.hour)\n",
    "test['pickup_day_of_week'] = test['pickup_datetime'].apply(lambda x:calendar.day_name[x.weekday()])\n",
    "test = pd.concat([test, pd.get_dummies(pd.Series(test['pickup_day_of_week']))], axis = 1)\n",
    "test['weekend'] = np.where((test['Saturday'] == 1) | (test['Sunday'] == 1), 1, 0)\n",
    "test['rush_hour'] = np.where((test['pickup_hour'] >= 16) & (test['pickup_hour'] < 20) & (test['weekend'] == 0), 1, 0)\n",
    "test['overnight'] = np.where((test['pickup_hour'] < 6) | (test['pickup_hour'] > 20), 1, 0)\n",
    "test['holiday'] = np.where((test['pickup_day'] == 1) | (test['pickup_day'] == 21), 1, 0)\n",
    "\n",
    "## Airport\n",
    "test['pickup_LGA'] = test.apply(lambda row:isAirport(row['pickup_latitude'], row['pickup_longitude'], 'LGA'), axis = 1)\n",
    "test['dropoff_LGA'] = test.apply(lambda row:isAirport(row['dropoff_latitude'], row['dropoff_longitude'], 'LGA'), axis = 1)\n",
    "test['LGA'] = np.where(test['pickup_LGA'] + test['dropoff_LGA'] > 0, 1, 0)\n",
    "test['pickup_JFK'] = test.apply(lambda row:isAirport(row['pickup_latitude'], row['pickup_longitude'], 'JFK'), axis = 1)\n",
    "test['dropoff_JFK'] = test.apply(lambda row:isAirport(row['dropoff_latitude'], row['dropoff_longitude'], 'JFK'), axis = 1)\n",
    "test['JFK'] = np.where(test['pickup_JFK'] + test['dropoff_JFK'] > 0, 1, 0)\n",
    "test['pickup_EWR'] = test.apply(lambda row:isAirport(row['pickup_latitude'], row['pickup_longitude'], 'EWR'), axis = 1)\n",
    "test['dropoff_EWR'] = test.apply(lambda row:isAirport(row['dropoff_latitude'], row['dropoff_longitude'], 'EWR'), axis = 1)\n",
    "test['EWR'] = np.where(test['pickup_EWR'] + test['dropoff_EWR'] > 0, 1, 0)\n",
    "test['pickup_airport'] = np.where(test['pickup_LGA'] + test['pickup_JFK'] + test['pickup_EWR'] > 0, 1, 0)\n",
    "test['dropoff_airport'] = np.where(test['dropoff_LGA'] + test['dropoff_JFK'] + test['dropoff_EWR'] > 0, 1, 0)\n",
    "test['airport'] = np.where(test['LGA'] + test['JFK'] + test['EWR'] > 0, 1, 0)\n",
    "\n",
    "## Borough\n",
    "test['pickup_borough'] = test.apply(lambda row:getBorough(row['pickup_latitude'], row['pickup_longitude']), axis = 1)\n",
    "test['dropoff_borough'] = test.apply(lambda row:getBorough(row['dropoff_latitude'], row['dropoff_longitude']), axis = 1)\n",
    "test['change_borough'] = np.where(test['pickup_borough'] != test['dropoff_borough'], 1, 0)\n",
    "test = pd.concat([test, pd.get_dummies(pd.Series(test['pickup_borough']), prefix = 'pickup', prefix_sep = '_')], axis = 1)\n",
    "test = pd.concat([test, pd.get_dummies(pd.Series(test['dropoff_borough']), prefix = 'dropoff', prefix_sep = '_')], axis = 1)\n",
    "\n",
    "## Haversine distance\n",
    "test['haversine'] = np.nan\n",
    "for i in range(0, test.shape[0]):\n",
    "    pickup = (test.at[i, 'pickup_latitude'], test.at[i, 'pickup_longitude'])\n",
    "    dropoff = (test.at[i, 'dropoff_latitude'], test.at[i, 'dropoff_longitude'])\n",
    "    test.at[i, 'haversine'] = haversine(pickup, dropoff, unit = 'mi')\n",
    "\n",
    "## Selecting variables of interest\n",
    "test = test[['pickup_longitude', 'pickup_latitude', 'dropoff_longitude', 'dropoff_latitude', 'distance', 'haversine', \n",
    "               'duration', 'passenger_count', 'pickup_day', 'holiday', 'Monday', 'Tuesday', 'Wednesday', 'Thursday',  'Friday', \n",
    "               'Saturday','weekend', 'pickup_hour', 'rush_hour', 'overnight', 'airport', 'LGA', 'JFK', 'EWR', 'pickup_LGA', 'dropoff_LGA', \n",
    "               'pickup_JFK', 'dropoff_JFK', 'pickup_EWR', 'dropoff_EWR', 'pickup_airport', 'dropoff_airport', 'change_borough', \n",
    "               'pickup_bronx', 'pickup_brooklyn', 'pickup_manhattan', 'pickup_queens', 'pickup_staten_island', 'dropoff_bronx', \n",
    "               'dropoff_brooklyn', 'dropoff_manhattan','dropoff_queens', 'dropoff_staten_island']]"
   ]
  },
  {
   "cell_type": "code",
   "execution_count": 6,
   "id": "aad5f5f6-0c63-4529-8d83-58ea7c056828",
   "metadata": {
    "tags": []
   },
   "outputs": [],
   "source": [
    "## Writing training and testing sets to csv files\n",
    "train.to_csv('Data/W23P1_train_final.csv', index = False)\n",
    "test.to_csv('Data/W23P1_test_final.csv', index = False)"
   ]
  }
 ],
 "metadata": {
  "kernelspec": {
   "display_name": "conda_python3",
   "language": "python",
   "name": "conda_python3"
  },
  "language_info": {
   "codemirror_mode": {
    "name": "ipython",
    "version": 3
   },
   "file_extension": ".py",
   "mimetype": "text/x-python",
   "name": "python",
   "nbconvert_exporter": "python",
   "pygments_lexer": "ipython3",
   "version": "3.10.8"
  }
 },
 "nbformat": 4,
 "nbformat_minor": 5
}
