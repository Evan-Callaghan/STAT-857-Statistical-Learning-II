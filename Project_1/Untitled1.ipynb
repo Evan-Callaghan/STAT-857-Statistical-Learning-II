{
 "cells": [
  {
   "cell_type": "code",
   "execution_count": 7,
   "id": "29c565d9-8d45-4b01-a46f-5e6657b45d31",
   "metadata": {
    "tags": []
   },
   "outputs": [],
   "source": [
    "import pandas as pd\n",
    "import numpy as np\n",
    "import calendar\n",
    "from datetime import datetime\n",
    "\n",
    "train = pd.read_csv('Data/W23P1_train.csv')\n",
    "test = pd.read_csv('Data/W23P1_test.csv')"
   ]
  },
  {
   "cell_type": "code",
   "execution_count": 8,
   "id": "511eb176-f0f5-47ad-b348-1fa9f90173f0",
   "metadata": {
    "tags": []
   },
   "outputs": [],
   "source": [
    "test['fare_amount'] = np.nan\n",
    "\n",
    "train['train'] = 1\n",
    "test['train'] = 0\n",
    "\n",
    "train = train[['uid', 'fare_amount', 'pickup_datetime', 'pickup_longitude', 'pickup_latitude', 'dropoff_longitude', \n",
    "               'dropoff_latitude', 'passenger_count', 'train']]\n",
    "test = test[['uid', 'fare_amount', 'pickup_datetime', 'pickup_longitude', 'pickup_latitude', 'dropoff_longitude', \n",
    "               'dropoff_latitude', 'passenger_count', 'train']]"
   ]
  },
  {
   "cell_type": "code",
   "execution_count": 9,
   "id": "ca264075-455d-4c1a-bbfe-6b91d86e0e0b",
   "metadata": {
    "tags": []
   },
   "outputs": [],
   "source": [
    "out = pd.concat([train, test], axis = 0).reset_index(drop = True)\n",
    "\n",
    "out['pickup_datetime'] = pd.to_datetime(out['pickup_datetime'], format = '%Y-%m-%d %H:%M:%S UTC')\n",
    "out['pickup_date'] = out['pickup_datetime'].dt.date\n",
    "out['pickup_day'] = out['pickup_datetime'].apply(lambda x:x.day)\n",
    "out['pickup_hour'] = out['pickup_datetime'].apply(lambda x:x.hour)\n",
    "out['pickup_day_of_week'] = out['pickup_datetime'].apply(lambda x:calendar.day_name[x.weekday()])"
   ]
  },
  {
   "cell_type": "code",
   "execution_count": 10,
   "id": "01198478-e2c2-4f22-811c-747095907511",
   "metadata": {
    "tags": []
   },
   "outputs": [],
   "source": [
    "out.to_csv('W23P1.csv', index = False)"
   ]
  },
  {
   "cell_type": "code",
   "execution_count": 18,
   "id": "02c2a4d0-7de9-4d98-9429-f99103a2756e",
   "metadata": {
    "tags": []
   },
   "outputs": [],
   "source": [
    "a = pd.read_csv('Data/Cat_Data2/ewr_dropoff.csv', encoding = 'UTF-16', sep = '\\t')\n",
    "b = pd.read_csv('Data/Cat_Data2/ewr_pickup.csv', encoding = 'UTF-16', sep = '\\t')\n",
    "c = pd.read_csv('Data/Cat_Data2/jfk_dropoff.csv', encoding = 'UTF-16', sep = '\\t')\n",
    "d = pd.read_csv('Data/Cat_Data2/jfk_pickup.csv', encoding = 'UTF-16', sep = '\\t')\n",
    "e = pd.read_csv('Data/Cat_Data2/lga_dropoff.csv', encoding = 'UTF-16', sep = '\\t')\n",
    "f = pd.read_csv('Data/Cat_Data2/lga_pickup.csv', encoding = 'UTF-16', sep = '\\t')\n",
    "g = pd.read_csv('Data/Cat_Data2/outliers_dropoff.csv', encoding = 'UTF-16', sep = '\\t')\n",
    "h = pd.read_csv('Data/Cat_Data2/outliers_pickup.csv', encoding = 'UTF-16', sep = '\\t')"
   ]
  },
  {
   "cell_type": "code",
   "execution_count": 20,
   "id": "47740d87-bb6f-4cd4-8928-4e08eff804b2",
   "metadata": {
    "tags": []
   },
   "outputs": [],
   "source": [
    "out['EWR_dropoff'] = np.where(np.isin(out['uid'], a['Uid'].values), 1, 0)\n",
    "out['EWR_pickup'] = np.where(np.isin(out['uid'], b['Uid'].values), 1, 0)\n",
    "out['JFK_dropoff'] = np.where(np.isin(out['uid'], c['Uid'].values), 1, 0)\n",
    "out['JFK_pickup'] = np.where(np.isin(out['uid'], d['Uid'].values), 1, 0)\n",
    "out['LGA_dropoff'] = np.where(np.isin(out['uid'], e['Uid'].values), 1, 0)\n",
    "out['LGA_pickup'] = np.where(np.isin(out['uid'], f['Uid'].values), 1, 0)\n",
    "\n",
    "out['Outlier_dropoff'] = np.where(np.isin(out['uid'], g['Uid'].values), 1, 0)\n",
    "out['Outlier_pickup'] = np.where(np.isin(out['uid'], h['Uid'].values), 1, 0)"
   ]
  },
  {
   "cell_type": "code",
   "execution_count": 22,
   "id": "9ae4d64c-68a2-431f-a09c-71a8787dcb15",
   "metadata": {
    "tags": []
   },
   "outputs": [],
   "source": [
    "out.to_csv('W23P1.csv', index = False)"
   ]
  }
 ],
 "metadata": {
  "kernelspec": {
   "display_name": "conda_python3",
   "language": "python",
   "name": "conda_python3"
  },
  "language_info": {
   "codemirror_mode": {
    "name": "ipython",
    "version": 3
   },
   "file_extension": ".py",
   "mimetype": "text/x-python",
   "name": "python",
   "nbconvert_exporter": "python",
   "pygments_lexer": "ipython3",
   "version": "3.10.8"
  }
 },
 "nbformat": 4,
 "nbformat_minor": 5
}
