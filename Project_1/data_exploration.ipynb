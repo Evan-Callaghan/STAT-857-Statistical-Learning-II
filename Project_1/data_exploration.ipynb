{
 "cells": [
  {
   "cell_type": "code",
   "execution_count": 1,
   "id": "e9728667-e2a8-4c77-b15a-4f45073a5796",
   "metadata": {
    "tags": []
   },
   "outputs": [],
   "source": [
    "import pandas as pd\n",
    "import numpy as np\n",
    "\n",
    "train = pd.read_csv('W23P1_train.csv')\n",
    "test = pd.read_csv('W23P1_test.csv')\n",
    "sub = pd.read_csv('W23P1_sample_submission.csv')"
   ]
  },
  {
   "cell_type": "code",
   "execution_count": 3,
   "id": "6026561b-7a21-441a-b596-342db7f0c23c",
   "metadata": {
    "tags": []
   },
   "outputs": [
    {
     "name": "stdout",
     "output_type": "stream",
     "text": [
      "(35000, 8)\n"
     ]
    },
    {
     "data": {
      "text/html": [
       "<div>\n",
       "<style scoped>\n",
       "    .dataframe tbody tr th:only-of-type {\n",
       "        vertical-align: middle;\n",
       "    }\n",
       "\n",
       "    .dataframe tbody tr th {\n",
       "        vertical-align: top;\n",
       "    }\n",
       "\n",
       "    .dataframe thead th {\n",
       "        text-align: right;\n",
       "    }\n",
       "</style>\n",
       "<table border=\"1\" class=\"dataframe\">\n",
       "  <thead>\n",
       "    <tr style=\"text-align: right;\">\n",
       "      <th></th>\n",
       "      <th>uid</th>\n",
       "      <th>fare_amount</th>\n",
       "      <th>pickup_datetime</th>\n",
       "      <th>pickup_longitude</th>\n",
       "      <th>pickup_latitude</th>\n",
       "      <th>dropoff_longitude</th>\n",
       "      <th>dropoff_latitude</th>\n",
       "      <th>passenger_count</th>\n",
       "    </tr>\n",
       "  </thead>\n",
       "  <tbody>\n",
       "    <tr>\n",
       "      <th>0</th>\n",
       "      <td>31722</td>\n",
       "      <td>9.0</td>\n",
       "      <td>2013-01-07 01:50:51 UTC</td>\n",
       "      <td>-73.991421</td>\n",
       "      <td>40.750160</td>\n",
       "      <td>-73.989490</td>\n",
       "      <td>40.726085</td>\n",
       "      <td>2</td>\n",
       "    </tr>\n",
       "    <tr>\n",
       "      <th>1</th>\n",
       "      <td>14674</td>\n",
       "      <td>14.0</td>\n",
       "      <td>2013-01-15 20:08:00 UTC</td>\n",
       "      <td>-73.997945</td>\n",
       "      <td>40.741057</td>\n",
       "      <td>-73.956223</td>\n",
       "      <td>40.767312</td>\n",
       "      <td>6</td>\n",
       "    </tr>\n",
       "    <tr>\n",
       "      <th>2</th>\n",
       "      <td>37571</td>\n",
       "      <td>19.5</td>\n",
       "      <td>2013-01-20 00:25:55 UTC</td>\n",
       "      <td>-73.999161</td>\n",
       "      <td>40.688531</td>\n",
       "      <td>-74.026611</td>\n",
       "      <td>40.616634</td>\n",
       "      <td>1</td>\n",
       "    </tr>\n",
       "    <tr>\n",
       "      <th>3</th>\n",
       "      <td>47583</td>\n",
       "      <td>6.0</td>\n",
       "      <td>2013-01-01 02:30:00 UTC</td>\n",
       "      <td>-73.991490</td>\n",
       "      <td>40.744257</td>\n",
       "      <td>-73.980912</td>\n",
       "      <td>40.748492</td>\n",
       "      <td>1</td>\n",
       "    </tr>\n",
       "    <tr>\n",
       "      <th>4</th>\n",
       "      <td>29473</td>\n",
       "      <td>33.5</td>\n",
       "      <td>2013-01-02 10:45:00 UTC</td>\n",
       "      <td>-73.972773</td>\n",
       "      <td>40.677702</td>\n",
       "      <td>-73.862242</td>\n",
       "      <td>40.768117</td>\n",
       "      <td>1</td>\n",
       "    </tr>\n",
       "  </tbody>\n",
       "</table>\n",
       "</div>"
      ],
      "text/plain": [
       "     uid  fare_amount          pickup_datetime  pickup_longitude  \\\n",
       "0  31722          9.0  2013-01-07 01:50:51 UTC        -73.991421   \n",
       "1  14674         14.0  2013-01-15 20:08:00 UTC        -73.997945   \n",
       "2  37571         19.5  2013-01-20 00:25:55 UTC        -73.999161   \n",
       "3  47583          6.0  2013-01-01 02:30:00 UTC        -73.991490   \n",
       "4  29473         33.5  2013-01-02 10:45:00 UTC        -73.972773   \n",
       "\n",
       "   pickup_latitude  dropoff_longitude  dropoff_latitude  passenger_count  \n",
       "0        40.750160         -73.989490         40.726085                2  \n",
       "1        40.741057         -73.956223         40.767312                6  \n",
       "2        40.688531         -74.026611         40.616634                1  \n",
       "3        40.744257         -73.980912         40.748492                1  \n",
       "4        40.677702         -73.862242         40.768117                1  "
      ]
     },
     "execution_count": 3,
     "metadata": {},
     "output_type": "execute_result"
    }
   ],
   "source": [
    "print(train.shape)\n",
    "train.head()"
   ]
  },
  {
   "cell_type": "code",
   "execution_count": 4,
   "id": "6d46fa34-7893-4a65-85d6-3611264e24cb",
   "metadata": {
    "tags": []
   },
   "outputs": [
    {
     "name": "stdout",
     "output_type": "stream",
     "text": [
      "(35000, 7)\n"
     ]
    },
    {
     "data": {
      "text/html": [
       "<div>\n",
       "<style scoped>\n",
       "    .dataframe tbody tr th:only-of-type {\n",
       "        vertical-align: middle;\n",
       "    }\n",
       "\n",
       "    .dataframe tbody tr th {\n",
       "        vertical-align: top;\n",
       "    }\n",
       "\n",
       "    .dataframe thead th {\n",
       "        text-align: right;\n",
       "    }\n",
       "</style>\n",
       "<table border=\"1\" class=\"dataframe\">\n",
       "  <thead>\n",
       "    <tr style=\"text-align: right;\">\n",
       "      <th></th>\n",
       "      <th>uid</th>\n",
       "      <th>pickup_datetime</th>\n",
       "      <th>pickup_longitude</th>\n",
       "      <th>pickup_latitude</th>\n",
       "      <th>dropoff_longitude</th>\n",
       "      <th>dropoff_latitude</th>\n",
       "      <th>passenger_count</th>\n",
       "    </tr>\n",
       "  </thead>\n",
       "  <tbody>\n",
       "    <tr>\n",
       "      <th>0</th>\n",
       "      <td>3</td>\n",
       "      <td>2013-01-29 09:59:26 UTC</td>\n",
       "      <td>-73.987309</td>\n",
       "      <td>40.729064</td>\n",
       "      <td>-73.993770</td>\n",
       "      <td>40.721086</td>\n",
       "      <td>1</td>\n",
       "    </tr>\n",
       "    <tr>\n",
       "      <th>1</th>\n",
       "      <td>10</td>\n",
       "      <td>2013-01-05 14:56:36 UTC</td>\n",
       "      <td>-73.978188</td>\n",
       "      <td>40.754557</td>\n",
       "      <td>-73.973773</td>\n",
       "      <td>40.760330</td>\n",
       "      <td>2</td>\n",
       "    </tr>\n",
       "    <tr>\n",
       "      <th>2</th>\n",
       "      <td>15</td>\n",
       "      <td>2013-01-22 14:48:00 UTC</td>\n",
       "      <td>-73.973310</td>\n",
       "      <td>40.789970</td>\n",
       "      <td>-73.948010</td>\n",
       "      <td>40.778685</td>\n",
       "      <td>5</td>\n",
       "    </tr>\n",
       "    <tr>\n",
       "      <th>3</th>\n",
       "      <td>16</td>\n",
       "      <td>2013-01-11 23:14:10 UTC</td>\n",
       "      <td>-73.984608</td>\n",
       "      <td>40.728920</td>\n",
       "      <td>-73.991357</td>\n",
       "      <td>40.688171</td>\n",
       "      <td>2</td>\n",
       "    </tr>\n",
       "    <tr>\n",
       "      <th>4</th>\n",
       "      <td>17</td>\n",
       "      <td>2013-01-31 02:59:44 UTC</td>\n",
       "      <td>-73.990671</td>\n",
       "      <td>40.724603</td>\n",
       "      <td>-73.983896</td>\n",
       "      <td>40.665502</td>\n",
       "      <td>2</td>\n",
       "    </tr>\n",
       "  </tbody>\n",
       "</table>\n",
       "</div>"
      ],
      "text/plain": [
       "   uid          pickup_datetime  pickup_longitude  pickup_latitude  \\\n",
       "0    3  2013-01-29 09:59:26 UTC        -73.987309        40.729064   \n",
       "1   10  2013-01-05 14:56:36 UTC        -73.978188        40.754557   \n",
       "2   15  2013-01-22 14:48:00 UTC        -73.973310        40.789970   \n",
       "3   16  2013-01-11 23:14:10 UTC        -73.984608        40.728920   \n",
       "4   17  2013-01-31 02:59:44 UTC        -73.990671        40.724603   \n",
       "\n",
       "   dropoff_longitude  dropoff_latitude  passenger_count  \n",
       "0         -73.993770         40.721086                1  \n",
       "1         -73.973773         40.760330                2  \n",
       "2         -73.948010         40.778685                5  \n",
       "3         -73.991357         40.688171                2  \n",
       "4         -73.983896         40.665502                2  "
      ]
     },
     "execution_count": 4,
     "metadata": {},
     "output_type": "execute_result"
    }
   ],
   "source": [
    "print(test.shape)\n",
    "test.head()"
   ]
  },
  {
   "cell_type": "code",
   "execution_count": 5,
   "id": "1aa4c177-ba2f-495c-afdf-7131770a02eb",
   "metadata": {
    "tags": []
   },
   "outputs": [
    {
     "name": "stdout",
     "output_type": "stream",
     "text": [
      "<class 'pandas.core.frame.DataFrame'>\n",
      "RangeIndex: 35000 entries, 0 to 34999\n",
      "Data columns (total 8 columns):\n",
      " #   Column             Non-Null Count  Dtype  \n",
      "---  ------             --------------  -----  \n",
      " 0   uid                35000 non-null  int64  \n",
      " 1   fare_amount        35000 non-null  float64\n",
      " 2   pickup_datetime    35000 non-null  object \n",
      " 3   pickup_longitude   35000 non-null  float64\n",
      " 4   pickup_latitude    35000 non-null  float64\n",
      " 5   dropoff_longitude  35000 non-null  float64\n",
      " 6   dropoff_latitude   35000 non-null  float64\n",
      " 7   passenger_count    35000 non-null  int64  \n",
      "dtypes: float64(5), int64(2), object(1)\n",
      "memory usage: 2.1+ MB\n"
     ]
    }
   ],
   "source": [
    "train.info()"
   ]
  },
  {
   "cell_type": "code",
   "execution_count": 7,
   "id": "f3f7a7ea-b5c0-419f-a838-2b1d91667db4",
   "metadata": {
    "tags": []
   },
   "outputs": [
    {
     "data": {
      "text/plain": [
       "uid                  0.0\n",
       "pickup_datetime        0\n",
       "pickup_longitude     0.0\n",
       "pickup_latitude      0.0\n",
       "dropoff_longitude    0.0\n",
       "dropoff_latitude     0.0\n",
       "passenger_count      0.0\n",
       "dtype: object"
      ]
     },
     "execution_count": 7,
     "metadata": {},
     "output_type": "execute_result"
    }
   ],
   "source": [
    "test[pd.isnull(test)].sum()"
   ]
  },
  {
   "cell_type": "code",
   "execution_count": null,
   "id": "8b862886-2295-4fe2-8169-2a41c7827445",
   "metadata": {},
   "outputs": [],
   "source": []
  }
 ],
 "metadata": {
  "kernelspec": {
   "display_name": "conda_python3",
   "language": "python",
   "name": "conda_python3"
  },
  "language_info": {
   "codemirror_mode": {
    "name": "ipython",
    "version": 3
   },
   "file_extension": ".py",
   "mimetype": "text/x-python",
   "name": "python",
   "nbconvert_exporter": "python",
   "pygments_lexer": "ipython3",
   "version": "3.10.8"
  }
 },
 "nbformat": 4,
 "nbformat_minor": 5
}
