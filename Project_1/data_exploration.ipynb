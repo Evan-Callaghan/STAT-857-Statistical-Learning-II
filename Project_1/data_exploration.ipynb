{
 "cells": [
  {
   "cell_type": "markdown",
   "id": "3abe4405-ea67-44d9-b309-52858c663902",
   "metadata": {},
   "source": [
    "### W23P1 STAT 857 - Data Exploration"
   ]
  },
  {
   "cell_type": "code",
   "execution_count": null,
   "id": "580ad1e8-cbfb-4396-8a8d-3e15d4ac4608",
   "metadata": {},
   "outputs": [],
   "source": [
    "## Importing libraries\n",
    "import numpy as np\n",
    "import pandas as pd\n",
    "pd.set_option('display.max_columns', None, 'display.max_rows', None)"
   ]
  },
  {
   "cell_type": "code",
   "execution_count": 1,
   "id": "e9728667-e2a8-4c77-b15a-4f45073a5796",
   "metadata": {
    "tags": []
   },
   "outputs": [],
   "source": [
    "## Reading the data\n",
    "train = pd.read_csv('W23P1_train_final.csv')\n",
    "test = pd.read_csv('W23P1_test_final.csv')"
   ]
  },
  {
   "cell_type": "markdown",
   "id": "e70667fd-d122-4d4a-88ec-8321e4aceafd",
   "metadata": {},
   "source": [
    "### Checking for missing values"
   ]
  },
  {
   "cell_type": "code",
   "execution_count": null,
   "id": "f6635108-37f6-4c6f-8ef6-76452c5c5e15",
   "metadata": {
    "tags": []
   },
   "outputs": [],
   "source": [
    "train[pd.isnull(train)].sum()"
   ]
  },
  {
   "cell_type": "code",
   "execution_count": null,
   "id": "f0f925da-c717-4049-992c-f52658e7f567",
   "metadata": {
    "tags": []
   },
   "outputs": [],
   "source": [
    "test[pd.isnull(test)].sum()"
   ]
  },
  {
   "cell_type": "markdown",
   "id": "b1fc4607-a35b-4830-8e33-772de64f4cb1",
   "metadata": {},
   "source": [
    "### EDA"
   ]
  },
  {
   "cell_type": "code",
   "execution_count": 2,
   "id": "694def77-b897-4f3a-82f3-a8bddd790e51",
   "metadata": {
    "tags": []
   },
   "outputs": [
    {
     "data": {
      "text/html": [
       "<div>\n",
       "<style scoped>\n",
       "    .dataframe tbody tr th:only-of-type {\n",
       "        vertical-align: middle;\n",
       "    }\n",
       "\n",
       "    .dataframe tbody tr th {\n",
       "        vertical-align: top;\n",
       "    }\n",
       "\n",
       "    .dataframe thead th {\n",
       "        text-align: right;\n",
       "    }\n",
       "</style>\n",
       "<table border=\"1\" class=\"dataframe\">\n",
       "  <thead>\n",
       "    <tr style=\"text-align: right;\">\n",
       "      <th></th>\n",
       "      <th>uid</th>\n",
       "      <th>fare_amount</th>\n",
       "      <th>pickup_datetime</th>\n",
       "      <th>pickup_longitude</th>\n",
       "      <th>pickup_latitude</th>\n",
       "      <th>dropoff_longitude</th>\n",
       "      <th>dropoff_latitude</th>\n",
       "      <th>passenger_count</th>\n",
       "    </tr>\n",
       "  </thead>\n",
       "  <tbody>\n",
       "    <tr>\n",
       "      <th>0</th>\n",
       "      <td>31722</td>\n",
       "      <td>9.0</td>\n",
       "      <td>2013-01-07 01:50:51 UTC</td>\n",
       "      <td>-73.991421</td>\n",
       "      <td>40.750160</td>\n",
       "      <td>-73.989490</td>\n",
       "      <td>40.726085</td>\n",
       "      <td>2</td>\n",
       "    </tr>\n",
       "    <tr>\n",
       "      <th>1</th>\n",
       "      <td>14674</td>\n",
       "      <td>14.0</td>\n",
       "      <td>2013-01-15 20:08:00 UTC</td>\n",
       "      <td>-73.997945</td>\n",
       "      <td>40.741057</td>\n",
       "      <td>-73.956223</td>\n",
       "      <td>40.767312</td>\n",
       "      <td>6</td>\n",
       "    </tr>\n",
       "    <tr>\n",
       "      <th>2</th>\n",
       "      <td>37571</td>\n",
       "      <td>19.5</td>\n",
       "      <td>2013-01-20 00:25:55 UTC</td>\n",
       "      <td>-73.999161</td>\n",
       "      <td>40.688531</td>\n",
       "      <td>-74.026611</td>\n",
       "      <td>40.616634</td>\n",
       "      <td>1</td>\n",
       "    </tr>\n",
       "    <tr>\n",
       "      <th>3</th>\n",
       "      <td>47583</td>\n",
       "      <td>6.0</td>\n",
       "      <td>2013-01-01 02:30:00 UTC</td>\n",
       "      <td>-73.991490</td>\n",
       "      <td>40.744257</td>\n",
       "      <td>-73.980912</td>\n",
       "      <td>40.748492</td>\n",
       "      <td>1</td>\n",
       "    </tr>\n",
       "    <tr>\n",
       "      <th>4</th>\n",
       "      <td>29473</td>\n",
       "      <td>33.5</td>\n",
       "      <td>2013-01-02 10:45:00 UTC</td>\n",
       "      <td>-73.972773</td>\n",
       "      <td>40.677702</td>\n",
       "      <td>-73.862242</td>\n",
       "      <td>40.768117</td>\n",
       "      <td>1</td>\n",
       "    </tr>\n",
       "  </tbody>\n",
       "</table>\n",
       "</div>"
      ],
      "text/plain": [
       "     uid  fare_amount          pickup_datetime  pickup_longitude  \\\n",
       "0  31722          9.0  2013-01-07 01:50:51 UTC        -73.991421   \n",
       "1  14674         14.0  2013-01-15 20:08:00 UTC        -73.997945   \n",
       "2  37571         19.5  2013-01-20 00:25:55 UTC        -73.999161   \n",
       "3  47583          6.0  2013-01-01 02:30:00 UTC        -73.991490   \n",
       "4  29473         33.5  2013-01-02 10:45:00 UTC        -73.972773   \n",
       "\n",
       "   pickup_latitude  dropoff_longitude  dropoff_latitude  passenger_count  \n",
       "0        40.750160         -73.989490         40.726085                2  \n",
       "1        40.741057         -73.956223         40.767312                6  \n",
       "2        40.688531         -74.026611         40.616634                1  \n",
       "3        40.744257         -73.980912         40.748492                1  \n",
       "4        40.677702         -73.862242         40.768117                1  "
      ]
     },
     "execution_count": 2,
     "metadata": {},
     "output_type": "execute_result"
    }
   ],
   "source": [
    "train.head()"
   ]
  },
  {
   "cell_type": "code",
   "execution_count": 3,
   "id": "6026561b-7a21-441a-b596-342db7f0c23c",
   "metadata": {
    "tags": []
   },
   "outputs": [
    {
     "name": "stdout",
     "output_type": "stream",
     "text": [
      "(35000, 8)\n"
     ]
    }
   ],
   "source": [
    "print(train.shape)"
   ]
  },
  {
   "cell_type": "code",
   "execution_count": 4,
   "id": "f17a1719-3810-47bb-aff8-8cf6fdb956db",
   "metadata": {
    "tags": []
   },
   "outputs": [
    {
     "data": {
      "text/html": [
       "<div>\n",
       "<style scoped>\n",
       "    .dataframe tbody tr th:only-of-type {\n",
       "        vertical-align: middle;\n",
       "    }\n",
       "\n",
       "    .dataframe tbody tr th {\n",
       "        vertical-align: top;\n",
       "    }\n",
       "\n",
       "    .dataframe thead th {\n",
       "        text-align: right;\n",
       "    }\n",
       "</style>\n",
       "<table border=\"1\" class=\"dataframe\">\n",
       "  <thead>\n",
       "    <tr style=\"text-align: right;\">\n",
       "      <th></th>\n",
       "      <th>uid</th>\n",
       "      <th>fare_amount</th>\n",
       "      <th>pickup_longitude</th>\n",
       "      <th>pickup_latitude</th>\n",
       "      <th>dropoff_longitude</th>\n",
       "      <th>dropoff_latitude</th>\n",
       "      <th>passenger_count</th>\n",
       "    </tr>\n",
       "  </thead>\n",
       "  <tbody>\n",
       "    <tr>\n",
       "      <th>count</th>\n",
       "      <td>35000.000000</td>\n",
       "      <td>35000.000000</td>\n",
       "      <td>35000.000000</td>\n",
       "      <td>35000.000000</td>\n",
       "      <td>35000.000000</td>\n",
       "      <td>35000.000000</td>\n",
       "      <td>35000.000000</td>\n",
       "    </tr>\n",
       "    <tr>\n",
       "      <th>mean</th>\n",
       "      <td>34898.261057</td>\n",
       "      <td>11.838253</td>\n",
       "      <td>-73.975153</td>\n",
       "      <td>40.751120</td>\n",
       "      <td>-73.974668</td>\n",
       "      <td>40.751746</td>\n",
       "      <td>1.709371</td>\n",
       "    </tr>\n",
       "    <tr>\n",
       "      <th>std</th>\n",
       "      <td>20219.528040</td>\n",
       "      <td>9.971856</td>\n",
       "      <td>0.034798</td>\n",
       "      <td>0.026839</td>\n",
       "      <td>0.033688</td>\n",
       "      <td>0.030280</td>\n",
       "      <td>1.372106</td>\n",
       "    </tr>\n",
       "    <tr>\n",
       "      <th>min</th>\n",
       "      <td>1.000000</td>\n",
       "      <td>2.500000</td>\n",
       "      <td>-74.277592</td>\n",
       "      <td>40.467615</td>\n",
       "      <td>-74.533332</td>\n",
       "      <td>40.438022</td>\n",
       "      <td>1.000000</td>\n",
       "    </tr>\n",
       "    <tr>\n",
       "      <th>25%</th>\n",
       "      <td>17282.750000</td>\n",
       "      <td>6.500000</td>\n",
       "      <td>-73.992154</td>\n",
       "      <td>40.737171</td>\n",
       "      <td>-73.991430</td>\n",
       "      <td>40.736281</td>\n",
       "      <td>1.000000</td>\n",
       "    </tr>\n",
       "    <tr>\n",
       "      <th>50%</th>\n",
       "      <td>34827.500000</td>\n",
       "      <td>9.000000</td>\n",
       "      <td>-73.981943</td>\n",
       "      <td>40.754077</td>\n",
       "      <td>-73.980365</td>\n",
       "      <td>40.754365</td>\n",
       "      <td>1.000000</td>\n",
       "    </tr>\n",
       "    <tr>\n",
       "      <th>75%</th>\n",
       "      <td>52415.250000</td>\n",
       "      <td>13.000000</td>\n",
       "      <td>-73.967864</td>\n",
       "      <td>40.767686</td>\n",
       "      <td>-73.965351</td>\n",
       "      <td>40.768525</td>\n",
       "      <td>2.000000</td>\n",
       "    </tr>\n",
       "    <tr>\n",
       "      <th>max</th>\n",
       "      <td>69999.000000</td>\n",
       "      <td>160.000000</td>\n",
       "      <td>-73.423008</td>\n",
       "      <td>40.888921</td>\n",
       "      <td>-73.350000</td>\n",
       "      <td>40.990400</td>\n",
       "      <td>6.000000</td>\n",
       "    </tr>\n",
       "  </tbody>\n",
       "</table>\n",
       "</div>"
      ],
      "text/plain": [
       "                uid   fare_amount  pickup_longitude  pickup_latitude  \\\n",
       "count  35000.000000  35000.000000      35000.000000     35000.000000   \n",
       "mean   34898.261057     11.838253        -73.975153        40.751120   \n",
       "std    20219.528040      9.971856          0.034798         0.026839   \n",
       "min        1.000000      2.500000        -74.277592        40.467615   \n",
       "25%    17282.750000      6.500000        -73.992154        40.737171   \n",
       "50%    34827.500000      9.000000        -73.981943        40.754077   \n",
       "75%    52415.250000     13.000000        -73.967864        40.767686   \n",
       "max    69999.000000    160.000000        -73.423008        40.888921   \n",
       "\n",
       "       dropoff_longitude  dropoff_latitude  passenger_count  \n",
       "count       35000.000000      35000.000000     35000.000000  \n",
       "mean          -73.974668         40.751746         1.709371  \n",
       "std             0.033688          0.030280         1.372106  \n",
       "min           -74.533332         40.438022         1.000000  \n",
       "25%           -73.991430         40.736281         1.000000  \n",
       "50%           -73.980365         40.754365         1.000000  \n",
       "75%           -73.965351         40.768525         2.000000  \n",
       "max           -73.350000         40.990400         6.000000  "
      ]
     },
     "execution_count": 4,
     "metadata": {},
     "output_type": "execute_result"
    }
   ],
   "source": [
    "train.describe()"
   ]
  },
  {
   "cell_type": "code",
   "execution_count": null,
   "id": "6d46fa34-7893-4a65-85d6-3611264e24cb",
   "metadata": {
    "tags": []
   },
   "outputs": [],
   "source": [
    "test.head()"
   ]
  },
  {
   "cell_type": "code",
   "execution_count": null,
   "id": "46d047b5-1e1f-43d0-86c0-e96df01dc824",
   "metadata": {
    "tags": []
   },
   "outputs": [],
   "source": [
    "print(test.shape)"
   ]
  },
  {
   "cell_type": "code",
   "execution_count": null,
   "id": "260dae6d-17b4-4e8d-9952-63f5cea813f7",
   "metadata": {
    "tags": []
   },
   "outputs": [],
   "source": [
    "test.describe()"
   ]
  }
 ],
 "metadata": {
  "kernelspec": {
   "display_name": "conda_python3",
   "language": "python",
   "name": "conda_python3"
  },
  "language_info": {
   "codemirror_mode": {
    "name": "ipython",
    "version": 3
   },
   "file_extension": ".py",
   "mimetype": "text/x-python",
   "name": "python",
   "nbconvert_exporter": "python",
   "pygments_lexer": "ipython3",
   "version": "3.10.8"
  }
 },
 "nbformat": 4,
 "nbformat_minor": 5
}
