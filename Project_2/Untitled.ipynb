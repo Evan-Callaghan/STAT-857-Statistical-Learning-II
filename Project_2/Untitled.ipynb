{
 "cells": [
  {
   "cell_type": "code",
   "execution_count": null,
   "id": "f202aecb-aa6a-4397-8af2-0f484d3fcc2d",
   "metadata": {
    "tags": []
   },
   "outputs": [],
   "source": [
    "pip install lightgbm"
   ]
  },
  {
   "cell_type": "code",
   "execution_count": 3,
   "id": "640dde3d-1769-4f98-9c86-69b460a9d1f1",
   "metadata": {
    "tags": []
   },
   "outputs": [],
   "source": [
    "import numpy as np\n",
    "import pandas as pd\n",
    "from tqdm import tqdm\n",
    "from sklearn.model_selection import KFold\n",
    "from sklearn.metrics import mean_squared_error\n",
    "from sklearn.feature_selection import RFECV, RFE\n",
    "from sklearn.model_selection import train_test_split\n",
    "from sklearn.multiclass import OneVsRestClassifier, OneVsOneClassifier\n",
    "from sklearn.ensemble import RandomForestClassifier\n",
    "from sklearn.svm import SVC\n",
    "from sklearn.preprocessing import MinMaxScaler"
   ]
  },
  {
   "cell_type": "code",
   "execution_count": 9,
   "id": "25e5b6df-4fbc-41d5-8052-cdadfc822ce4",
   "metadata": {
    "tags": []
   },
   "outputs": [],
   "source": [
    "## Reading the data\n",
    "data = pd.read_csv('Data/W23P2_train.csv')"
   ]
  },
  {
   "cell_type": "code",
   "execution_count": 12,
   "id": "68f957d3-dd77-4833-b791-d0fbb4f2ae2b",
   "metadata": {
    "tags": []
   },
   "outputs": [
    {
     "name": "stderr",
     "output_type": "stream",
     "text": [
      "/home/ec2-user/anaconda3/envs/python3/lib/python3.10/site-packages/sklearn/preprocessing/_data.py:484: RuntimeWarning: divide by zero encountered in true_divide\n",
      "  self.scale_ = (feature_range[1] - feature_range[0]) / _handle_zeros_in_scale(\n",
      "/home/ec2-user/anaconda3/envs/python3/lib/python3.10/site-packages/sklearn/preprocessing/_data.py:484: RuntimeWarning: divide by zero encountered in true_divide\n",
      "  self.scale_ = (feature_range[1] - feature_range[0]) / _handle_zeros_in_scale(\n"
     ]
    }
   ],
   "source": [
    "## Defining the input and target variables\n",
    "X = data.drop(columns = ['interest_level', 'street_address'])\n",
    "Y = data['interest_level']\n",
    "\n",
    "## Splitting the data\n",
    "X_train, X_test, Y_train, Y_test = train_test_split(X, Y, test_size = 0.2, stratify = Y)\n",
    "\n",
    "## Standardizing the data\n",
    "scaler = MinMaxScaler()\n",
    "X_train = scaler.fit_transform(X_train)\n",
    "X_test = scaler.fit_transform(X_test)"
   ]
  },
  {
   "cell_type": "code",
   "execution_count": 19,
   "id": "5ed15261-674d-4fb4-b75d-67932d1f8aa1",
   "metadata": {
    "tags": []
   },
   "outputs": [],
   "source": [
    "## Building the multi-classifier (using RF)\n",
    "one_vs_all_RF = OneVsRestClassifier(estimator = RandomForestClassifier(n_estimators = 500, max_depth = 3)).fit(X_train, Y_train)\n",
    "\n",
    "## Predicting on the test\n",
    "one_vs_all_RF_pred = one_vs_all_RF.predict_proba(X_test)"
   ]
  },
  {
   "cell_type": "code",
   "execution_count": null,
   "id": "0eb87982-f866-4d4d-a018-f00e67adf024",
   "metadata": {},
   "outputs": [],
   "source": [
    "## Building the multi-classifier (using SVM)\n",
    "one_vs_all_svm = OneVsRestClassifier(estimator = SVC(kernel = ’rbf’, probability = True)).fit(X_train, Y_train)\n",
    "\n",
    "## Predicting on the test\n",
    "one_vs_all_svm_pred = one_vs_all_svm.predict_proba(X_test)"
   ]
  }
 ],
 "metadata": {
  "kernelspec": {
   "display_name": "conda_python3",
   "language": "python",
   "name": "conda_python3"
  },
  "language_info": {
   "codemirror_mode": {
    "name": "ipython",
    "version": 3
   },
   "file_extension": ".py",
   "mimetype": "text/x-python",
   "name": "python",
   "nbconvert_exporter": "python",
   "pygments_lexer": "ipython3",
   "version": "3.10.8"
  }
 },
 "nbformat": 4,
 "nbformat_minor": 5
}
